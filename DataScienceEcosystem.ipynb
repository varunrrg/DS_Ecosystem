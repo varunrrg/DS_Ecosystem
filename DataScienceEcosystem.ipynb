{
  "metadata": {
    "language_info": {
      "codemirror_mode": {
        "name": "python",
        "version": 3
      },
      "file_extension": ".py",
      "mimetype": "text/x-python",
      "name": "python",
      "nbconvert_exporter": "python",
      "pygments_lexer": "ipython3",
      "version": "3.8"
    },
    "kernelspec": {
      "name": "python",
      "display_name": "Pyolite",
      "language": "python"
    }
  },
  "nbformat_minor": 4,
  "nbformat": 4,
  "cells": [
    {
      "cell_type": "markdown",
      "source": "<font color=darkred><u>Exercise 2:<u/> Create markdown cell with title of the notebook\n# <center> Data Science Tools and Ecosystem",
      "metadata": {
        "tags": []
      }
    },
    {
      "cell_type": "markdown",
      "source": "<font color=darkred><u>Exercise 3 - Create a markdown cell for an introduction<u/><br>\n<font color=darkred><u>Exercise 10 - Insert a markdown cell to list Objectives<u/>\n    \n<font color=darkblue>In this notebook, Data Science Tools and Ecosystem are summarized.\n\n<font color=darkblue><b>Objectives:\n<ul>\n<li>Get familiar with the data science development environment\n<li>Create ordered/unordered lists and format markdowns\n<li>Recap of some popular data science tools\n<li>Execute code for basic arithmetic",
      "metadata": {}
    },
    {
      "cell_type": "markdown",
      "source": "<font color=darkred><u>Exercise 4 - Create a markdown cell to list data science languages<u/>\n\n<font color=darkblue>Some of the popular languages that Data Scientists use are:<br>\n<ol>\n<li>Python<li/>\nR<li/>\nSQL<li/>\nJava",
      "metadata": {}
    },
    {
      "cell_type": "markdown",
      "source": "<font color=darkred><u>Exercise 5 - Create a markdown cell to list data science libraries<u/>\n\n<font color=darkblue>Some of the commonly used libraries used by Data Scientists include:<br>\n\n<ol>\n<li>Pandas<li/>\nMatplotlib<li/>\nTensorFlow",
      "metadata": {}
    },
    {
      "cell_type": "markdown",
      "source": "<font color=darkred><u>Exercise 6 - Create a markdown cell with a table of Data Science tools<u/>\n\n|Data Science Tools|\n|---------|\n|<font color=blue>Jupyter Notebook |\n|<font color=blue>R Studio |\n|<font color=blue>Google Colab |",
      "metadata": {}
    },
    {
      "cell_type": "markdown",
      "source": "<font color=darkred><u>Exercise 7 - Create a markdown cell introducing arithmetic expression examples<u/>\n    \n### <font color=darkblue>Below is an example of evaluating arithmetic expressions in Python:",
      "metadata": {}
    },
    {
      "cell_type": "markdown",
      "source": "<font color=darkred><u>Exercise 8 - Create a code cell to multiply and add numbers<u/>",
      "metadata": {}
    },
    {
      "cell_type": "code",
      "source": "# This a simple arithmetic expression to mutiply then add integers\n(3*4)+5",
      "metadata": {
        "trusted": true
      },
      "execution_count": 29,
      "outputs": [
        {
          "execution_count": 29,
          "output_type": "execute_result",
          "data": {
            "text/plain": "17"
          },
          "metadata": {}
        }
      ]
    },
    {
      "cell_type": "markdown",
      "source": "<font color=darkred><u>Exercise 9 - Create a code cell to convert minutes to hours<u/>",
      "metadata": {}
    },
    {
      "cell_type": "code",
      "source": "#This will convert 200 minutes to hours and minutes\n\ntotal_minutes = 200\n\n# Get hours with floor division\nhours = total_minutes // 60\n\n# Get additional minutes with modulus\nminutes = total_minutes % 60\n\nprint(hours,\"hours,\",minutes,\"minutes\")",
      "metadata": {
        "trusted": true
      },
      "execution_count": 30,
      "outputs": [
        {
          "name": "stdout",
          "text": "3 hours, 20 minutes\n",
          "output_type": "stream"
        }
      ]
    },
    {
      "cell_type": "markdown",
      "source": "<font color=darkred><u>Exercise 11 - Create a markdown cell to indicate the Author's name<u/>\n    \n## Author\nVarun",
      "metadata": {}
    }
  ]
}